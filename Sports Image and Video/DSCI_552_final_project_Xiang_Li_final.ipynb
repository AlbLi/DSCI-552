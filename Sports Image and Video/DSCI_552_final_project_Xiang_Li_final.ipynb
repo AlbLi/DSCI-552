{
 "cells": [
  {
   "cell_type": "markdown",
   "id": "145d1ae2",
   "metadata": {
    "id": "66ffdd2a"
   },
   "source": [
    "### Part d)"
   ]
  },
  {
   "cell_type": "code",
   "execution_count": null,
   "id": "7b9fe3db",
   "metadata": {
    "colab": {
     "base_uri": "https://localhost:8080/"
    },
    "executionInfo": {
     "elapsed": 966,
     "status": "ok",
     "timestamp": 1683066581480,
     "user": {
      "displayName": "Albert Li",
      "userId": "17410696238706252575"
     },
     "user_tz": 300
    },
    "id": "ZMyxNyZimZnO",
    "outputId": "012c7a32-6f57-4148-c637-b8a1e59d110d"
   },
   "outputs": [],
   "source": [
    "# from google.colab import drive\n",
    "\n",
    "# Accessing My Google Drive\n",
    "# drive.mount('/content/drive')"
   ]
  },
  {
   "cell_type": "code",
   "execution_count": null,
   "id": "ffbda9dd",
   "metadata": {
    "executionInfo": {
     "elapsed": 3,
     "status": "ok",
     "timestamp": 1683066581480,
     "user": {
      "displayName": "Albert Li",
      "userId": "17410696238706252575"
     },
     "user_tz": 300
    },
    "id": "sbgsmVKq4aZm"
   },
   "outputs": [],
   "source": [
    "# !pip install Pillow"
   ]
  },
  {
   "cell_type": "code",
   "execution_count": 1,
   "id": "ee7b6c35",
   "metadata": {
    "colab": {
     "base_uri": "https://localhost:8080/"
    },
    "executionInfo": {
     "elapsed": 280,
     "status": "ok",
     "timestamp": 1683066581758,
     "user": {
      "displayName": "Albert Li",
      "userId": "17410696238706252575"
     },
     "user_tz": 300
    },
    "id": "LJeD8YQl6MLv",
    "outputId": "84a5f5c7-226c-4d66-821f-18ba79015a66"
   },
   "outputs": [
    {
     "name": "stdout",
     "output_type": "stream",
     "text": [
      "Unique file extensions: ['.webp', '.gif', '.jpeg', '.jpg', '.png']\n"
     ]
    }
   ],
   "source": [
    "# check all different file extensions for the files to ensure correct reading methods\n",
    "import os\n",
    "\n",
    "base_path = '../Data/Sport Images'\n",
    "classes = ['baseball', 'basketball', 'fencing', 'tennis', 'volleyball']\n",
    "\n",
    "file_extensions = []\n",
    "\n",
    "for class_name in classes:\n",
    "    class_path = os.path.join(base_path, class_name)\n",
    "    for img_name in os.listdir(class_path):\n",
    "        file_extension = os.path.splitext(img_name)[-1].lower()\n",
    "        file_extensions.append(file_extension)\n",
    "\n",
    "unique_extensions = list(set(file_extensions))\n",
    "\n",
    "print(\"Unique file extensions:\", unique_extensions)\n"
   ]
  },
  {
   "cell_type": "code",
   "execution_count": null,
   "id": "42358a61",
   "metadata": {
    "scrolled": true
   },
   "outputs": [],
   "source": [
    "# !pip install opencv-python\n",
    "# !pip install scikit-learn\n"
   ]
  },
  {
   "cell_type": "code",
   "execution_count": null,
   "id": "39e03418",
   "metadata": {},
   "outputs": [],
   "source": [
    "# pip install numpy==1.23.4"
   ]
  },
  {
   "cell_type": "code",
   "execution_count": null,
   "id": "c6cfd97e",
   "metadata": {},
   "outputs": [],
   "source": [
    "# pip install Pillow\n"
   ]
  },
  {
   "cell_type": "code",
   "execution_count": 8,
   "id": "bb42be76",
   "metadata": {
    "executionInfo": {
     "elapsed": 48095,
     "status": "ok",
     "timestamp": 1683066629852,
     "user": {
      "displayName": "Albert Li",
      "userId": "17410696238706252575"
     },
     "user_tz": 300
    },
    "id": "yOLGNuUn4ZdP",
    "scrolled": false
   },
   "outputs": [],
   "source": [
    "import os\n",
    "import cv2\n",
    "import numpy as np\n",
    "from sklearn.model_selection import train_test_split\n",
    "\n",
    "from keras.preprocessing.image import ImageDataGenerator\n",
    "from PIL import Image\n",
    "\n",
    "\n",
    "base_path = '../Data/Sport Images'\n",
    "classes = ['baseball', 'basketball', 'fencing', 'tennis', 'volleyball']\n",
    "image_size = (224, 224)\n",
    "\n",
    "\n",
    "# Define a function that can load all picture files in the folders, convert to RGB mode, and give labels\n",
    "def load_and_preprocess_images(base_path, classes, image_size):\n",
    "    data = []\n",
    "    labels = []\n",
    "\n",
    "    for class_index, class_name in enumerate(classes):\n",
    "        class_path = os.path.join(base_path, class_name)\n",
    "        for img_name in os.listdir(class_path):\n",
    "            img_path = os.path.join(class_path, img_name)\n",
    "            \n",
    "            try:\n",
    "                img = Image.open(img_path)\n",
    "                img = img.convert(\"RGB\")  # Convert to RGB mode if the image is not in RGB mode\n",
    "                img = img.resize(image_size)\n",
    "                img_array = np.array(img)\n",
    "                data.append(img_array)\n",
    "                labels.append(class_index)\n",
    "            except Exception as e:\n",
    "                print(f\"Error while reading {img_path}: {e}\")\n",
    "\n",
    "    return np.array(data), np.array(labels)\n",
    "\n",
    "\n",
    "# Split the dataset as required, 70% for training, 15% for validation, and 15% for testing\n",
    "data, labels = load_and_preprocess_images(base_path, classes, image_size)\n",
    "X_train, X_test, y_train, y_test = train_test_split(data, labels, test_size=0.3, stratify=labels, random_state=42)\n",
    "X_val, X_test, y_val, y_test = train_test_split(X_test, y_test, test_size=0.5, stratify=y_test, random_state=42)"
   ]
  },
  {
   "cell_type": "markdown",
   "id": "02de610f",
   "metadata": {
    "id": "b59a56ff"
   },
   "source": [
    "### Part e"
   ]
  },
  {
   "cell_type": "code",
   "execution_count": 3,
   "id": "3557288f",
   "metadata": {},
   "outputs": [],
   "source": [
    "# pip install matplotlib"
   ]
  },
  {
   "cell_type": "code",
   "execution_count": 4,
   "id": "77bff183",
   "metadata": {
    "executionInfo": {
     "elapsed": 383,
     "status": "ok",
     "timestamp": 1683066737397,
     "user": {
      "displayName": "Albert Li",
      "userId": "17410696238706252575"
     },
     "user_tz": 300
    },
    "id": "bf2984f9"
   },
   "outputs": [],
   "source": [
    "from tensorflow.keras.applications import ResNet50, EfficientNetB0, VGG16\n",
    "from tensorflow.keras.layers import Dense\n",
    "from tensorflow.keras.models import Model\n",
    "from tensorflow.keras.optimizers import Adam\n",
    "from tensorflow.keras.losses import SparseCategoricalCrossentropy\n",
    "from tensorflow.keras.callbacks import EarlyStopping\n",
    "from tensorflow.keras.metrics import SparseCategoricalAccuracy\n",
    "from sklearn.metrics import confusion_matrix, classification_report\n",
    "import matplotlib.pyplot as plt\n",
    "import os\n",
    "from tensorflow.keras.callbacks import ModelCheckpoint"
   ]
  },
  {
   "cell_type": "code",
   "execution_count": 9,
   "id": "69dc3eed",
   "metadata": {
    "executionInfo": {
     "elapsed": 1995,
     "status": "ok",
     "timestamp": 1683066741361,
     "user": {
      "displayName": "Albert Li",
      "userId": "17410696238706252575"
     },
     "user_tz": 300
    },
    "id": "f0RPWHRXFNpi"
   },
   "outputs": [],
   "source": [
    "# ii. Modifying some parameters to make the training dataset more diversed, and thus make it less likely for overfitting\n",
    "datagen = ImageDataGenerator(rotation_range=20, zoom_range=0.15, width_shift_range=0.2, height_shift_range=0.2, shear_range=0.15, horizontal_flip=True, fill_mode='nearest')\n",
    "datagen.fit(X_train)"
   ]
  },
  {
   "cell_type": "code",
   "execution_count": 10,
   "id": "6fd94d99",
   "metadata": {
    "executionInfo": {
     "elapsed": 3,
     "status": "ok",
     "timestamp": 1683066741362,
     "user": {
      "displayName": "Albert Li",
      "userId": "17410696238706252575"
     },
     "user_tz": 300
    },
    "id": "3HkTZG2D_9ND"
   },
   "outputs": [],
   "source": [
    "# i & iii Create a function to modify the pre-trained models with custom layers\n",
    "def create_model(model_name):\n",
    "    if model_name == \"resnet50\":\n",
    "        base_model = ResNet50(include_top=False, pooling=\"avg\", input_shape=(224, 224, 3))\n",
    "        output = Dense(5, activation=\"softmax\")(base_model.output)\n",
    "    elif model_name == \"efficientnet_b0\":\n",
    "        base_model = EfficientNetB0(include_top=False, pooling=\"avg\", input_shape=(224, 224, 3))\n",
    "        output = Dense(5, activation=\"softmax\")(base_model.output)\n",
    "    elif model_name == \"vgg16\":\n",
    "        base_model = VGG16(include_top=False, pooling=\"avg\", input_shape=(224, 224, 3))\n",
    "        output = Dense(5, activation=\"softmax\")(base_model.output)\n",
    "    else:\n",
    "        raise ValueError(\"Invalid model name.\")\n",
    "        \n",
    "    model = Model(inputs=base_model.input, outputs=output)\n",
    "    return model\n"
   ]
  },
  {
   "cell_type": "code",
   "execution_count": 11,
   "id": "0dd448d1",
   "metadata": {
    "executionInfo": {
     "elapsed": 88,
     "status": "ok",
     "timestamp": 1683066789048,
     "user": {
      "displayName": "Albert Li",
      "userId": "17410696238706252575"
     },
     "user_tz": 300
    },
    "id": "wJ5HEnMqpkGL"
   },
   "outputs": [],
   "source": [
    "from sklearn.metrics import precision_score, recall_score, accuracy_score,f1_score\n",
    "\n",
    "def train_model(model_name, X_train, y_train, X_val, y_val):\n",
    "    model = create_model(model_name)\n",
    "    model.compile(optimizer=Adam(), loss='sparse_categorical_crossentropy', metrics=['accuracy'])\n",
    "    \n",
    "    checkpoint_filepath = f\"{model_name}_best_weights.h5\"\n",
    "    model_checkpoint = ModelCheckpoint(checkpoint_filepath, monitor='val_loss', verbose=1, save_best_only=True, mode='min')\n",
    "    early_stopping = EarlyStopping(monitor='val_loss', patience=10)\n",
    "    \n",
    "    history = model.fit(datagen.flow(X_train, y_train, batch_size=5), epochs=60, validation_data=(X_val, y_val), callbacks=[early_stopping, model_checkpoint])\n",
    "    \n",
    "    model.load_weights(checkpoint_filepath)\n",
    "\n",
    "    # Save the model with the correct name\n",
    "    model.save(f\"{model_name}.h5\")\n",
    "    \n",
    "    plt.plot(history.history['loss'], label='Training Loss')\n",
    "    plt.plot(history.history['val_loss'], label='Validation Loss')\n",
    "    plt.xlabel('Epochs')\n",
    "    plt.ylabel('Loss')\n",
    "    plt.title(f'{model_name} - Training and Validation Loss')\n",
    "    plt.legend()\n",
    "    plt.show()\n",
    "    \n",
    "    return model\n",
    "\n",
    "\n",
    "def evaluate_model(model, X_test, y_test):\n",
    "    y_pred = np.argmax(model.predict(X_test), axis=-1)\n",
    "    cm = confusion_matrix(y_test, y_pred)\n",
    "    precision = precision_score(y_test, y_pred, average='weighted')\n",
    "    recall = recall_score(y_test, y_pred, average='weighted')\n",
    "    accuracy = accuracy_score(y_test, y_pred)\n",
    "    f1 = f1_score(y_test, y_pred, average='weighted')\n",
    "    \n",
    "    return cm, precision, recall, accuracy, f1\n"
   ]
  },
  {
   "cell_type": "code",
   "execution_count": 8,
   "id": "d96008a0",
   "metadata": {
    "colab": {
     "background_save": true,
     "base_uri": "https://localhost:8080/"
    },
    "id": "IPW8WPQMpvic",
    "scrolled": true
   },
   "outputs": [
    {
     "name": "stdout",
     "output_type": "stream",
     "text": [
      "Epoch 1/60\n",
      "460/460 [==============================] - 35s 62ms/step - loss: 1.5559 - accuracy: 0.3968 - val_loss: 9.1835 - val_accuracy: 0.3272\n",
      "\n",
      "Epoch 00001: val_loss improved from inf to 9.18347, saving model to resnet50_best_weights.h5\n"
     ]
    },
    {
     "name": "stderr",
     "output_type": "stream",
     "text": [
      "C:\\Users\\kaiyi\\anaconda3\\envs\\ts\\lib\\site-packages\\keras\\utils\\generic_utils.py:494: CustomMaskWarning: Custom mask layers require a config and must override get_config. When loading, the custom mask layer must be passed to the custom_objects argument.\n",
      "  warnings.warn('Custom mask layers require a config and must override '\n"
     ]
    },
    {
     "name": "stdout",
     "output_type": "stream",
     "text": [
      "Epoch 2/60\n",
      "460/460 [==============================] - 26s 56ms/step - loss: 1.3453 - accuracy: 0.4578 - val_loss: 28.2442 - val_accuracy: 0.1809\n",
      "\n",
      "Epoch 00002: val_loss did not improve from 9.18347\n",
      "Epoch 3/60\n",
      "460/460 [==============================] - 26s 57ms/step - loss: 1.2318 - accuracy: 0.5109 - val_loss: 2.7134 - val_accuracy: 0.4106\n",
      "\n",
      "Epoch 00003: val_loss improved from 9.18347 to 2.71342, saving model to resnet50_best_weights.h5\n",
      "Epoch 4/60\n",
      "460/460 [==============================] - 26s 56ms/step - loss: 1.1993 - accuracy: 0.5322 - val_loss: 1.1047 - val_accuracy: 0.5691\n",
      "\n",
      "Epoch 00004: val_loss improved from 2.71342 to 1.10469, saving model to resnet50_best_weights.h5\n",
      "Epoch 5/60\n",
      "460/460 [==============================] - 26s 56ms/step - loss: 1.1550 - accuracy: 0.5518 - val_loss: 3.1216 - val_accuracy: 0.3333\n",
      "\n",
      "Epoch 00005: val_loss did not improve from 1.10469\n",
      "Epoch 6/60\n",
      "460/460 [==============================] - 26s 56ms/step - loss: 1.0987 - accuracy: 0.5884 - val_loss: 1.4074 - val_accuracy: 0.4980\n",
      "\n",
      "Epoch 00006: val_loss did not improve from 1.10469\n",
      "Epoch 7/60\n",
      "460/460 [==============================] - 26s 56ms/step - loss: 1.0566 - accuracy: 0.5893 - val_loss: 1.1616 - val_accuracy: 0.5407\n",
      "\n",
      "Epoch 00007: val_loss did not improve from 1.10469\n",
      "Epoch 8/60\n",
      "460/460 [==============================] - 26s 57ms/step - loss: 1.0063 - accuracy: 0.6084 - val_loss: 1.7379 - val_accuracy: 0.4817\n",
      "\n",
      "Epoch 00008: val_loss did not improve from 1.10469\n",
      "Epoch 9/60\n",
      "460/460 [==============================] - 26s 56ms/step - loss: 0.9495 - accuracy: 0.6376 - val_loss: 1.0626 - val_accuracy: 0.6504\n",
      "\n",
      "Epoch 00009: val_loss improved from 1.10469 to 1.06257, saving model to resnet50_best_weights.h5\n",
      "Epoch 10/60\n",
      "460/460 [==============================] - 26s 57ms/step - loss: 0.9369 - accuracy: 0.6485 - val_loss: 1.2129 - val_accuracy: 0.6504\n",
      "\n",
      "Epoch 00010: val_loss did not improve from 1.06257\n",
      "Epoch 11/60\n",
      "460/460 [==============================] - 26s 57ms/step - loss: 0.8775 - accuracy: 0.6777 - val_loss: 1.0981 - val_accuracy: 0.6443\n",
      "\n",
      "Epoch 00011: val_loss did not improve from 1.06257\n",
      "Epoch 12/60\n",
      "460/460 [==============================] - 26s 57ms/step - loss: 0.8579 - accuracy: 0.6821 - val_loss: 0.8108 - val_accuracy: 0.6972\n",
      "\n",
      "Epoch 00012: val_loss improved from 1.06257 to 0.81076, saving model to resnet50_best_weights.h5\n",
      "Epoch 13/60\n",
      "460/460 [==============================] - 26s 56ms/step - loss: 0.8345 - accuracy: 0.6860 - val_loss: 2.2454 - val_accuracy: 0.5528\n",
      "\n",
      "Epoch 00013: val_loss did not improve from 0.81076\n",
      "Epoch 14/60\n",
      "460/460 [==============================] - 26s 57ms/step - loss: 0.8114 - accuracy: 0.7073 - val_loss: 1.5874 - val_accuracy: 0.5894\n",
      "\n",
      "Epoch 00014: val_loss did not improve from 0.81076\n",
      "Epoch 15/60\n",
      "460/460 [==============================] - 26s 57ms/step - loss: 0.7762 - accuracy: 0.7282 - val_loss: 1.6726 - val_accuracy: 0.6057\n",
      "\n",
      "Epoch 00015: val_loss did not improve from 0.81076\n",
      "Epoch 16/60\n",
      "460/460 [==============================] - 26s 58ms/step - loss: 0.8064 - accuracy: 0.7030 - val_loss: 1.1110 - val_accuracy: 0.6687\n",
      "\n",
      "Epoch 00016: val_loss did not improve from 0.81076\n",
      "Epoch 17/60\n",
      "460/460 [==============================] - 26s 57ms/step - loss: 0.7083 - accuracy: 0.7395 - val_loss: 1.0505 - val_accuracy: 0.7053\n",
      "\n",
      "Epoch 00017: val_loss did not improve from 0.81076\n",
      "Epoch 18/60\n",
      "460/460 [==============================] - 26s 57ms/step - loss: 0.7387 - accuracy: 0.7300 - val_loss: 0.7525 - val_accuracy: 0.7419\n",
      "\n",
      "Epoch 00018: val_loss improved from 0.81076 to 0.75249, saving model to resnet50_best_weights.h5\n",
      "Epoch 19/60\n",
      "460/460 [==============================] - 26s 57ms/step - loss: 0.6740 - accuracy: 0.7470 - val_loss: 1.4657 - val_accuracy: 0.6260\n",
      "\n",
      "Epoch 00019: val_loss did not improve from 0.75249\n",
      "Epoch 20/60\n",
      "460/460 [==============================] - 26s 56ms/step - loss: 0.6745 - accuracy: 0.7666 - val_loss: 2.4872 - val_accuracy: 0.4675\n",
      "\n",
      "Epoch 00020: val_loss did not improve from 0.75249\n",
      "Epoch 21/60\n",
      "460/460 [==============================] - 26s 57ms/step - loss: 0.6352 - accuracy: 0.7740 - val_loss: 1.3806 - val_accuracy: 0.6545\n",
      "\n",
      "Epoch 00021: val_loss did not improve from 0.75249\n",
      "Epoch 22/60\n",
      "460/460 [==============================] - 26s 57ms/step - loss: 0.6215 - accuracy: 0.7722 - val_loss: 0.7698 - val_accuracy: 0.7520\n",
      "\n",
      "Epoch 00022: val_loss did not improve from 0.75249\n",
      "Epoch 23/60\n",
      "460/460 [==============================] - 26s 57ms/step - loss: 0.6202 - accuracy: 0.7848 - val_loss: 0.7086 - val_accuracy: 0.7683\n",
      "\n",
      "Epoch 00023: val_loss improved from 0.75249 to 0.70857, saving model to resnet50_best_weights.h5\n",
      "Epoch 24/60\n",
      "460/460 [==============================] - 26s 57ms/step - loss: 0.6146 - accuracy: 0.7796 - val_loss: 1.0034 - val_accuracy: 0.6850\n",
      "\n",
      "Epoch 00024: val_loss did not improve from 0.70857\n",
      "Epoch 25/60\n",
      "460/460 [==============================] - 26s 57ms/step - loss: 0.5841 - accuracy: 0.7840 - val_loss: 0.8241 - val_accuracy: 0.7642\n",
      "\n",
      "Epoch 00025: val_loss did not improve from 0.70857\n",
      "Epoch 26/60\n",
      "460/460 [==============================] - 26s 57ms/step - loss: 0.5978 - accuracy: 0.7957 - val_loss: 1.0456 - val_accuracy: 0.7073\n",
      "\n",
      "Epoch 00026: val_loss did not improve from 0.70857\n",
      "Epoch 27/60\n",
      "460/460 [==============================] - 26s 57ms/step - loss: 0.5384 - accuracy: 0.8162 - val_loss: 0.6613 - val_accuracy: 0.7724\n",
      "\n",
      "Epoch 00027: val_loss improved from 0.70857 to 0.66128, saving model to resnet50_best_weights.h5\n",
      "Epoch 28/60\n",
      "460/460 [==============================] - 26s 57ms/step - loss: 0.5400 - accuracy: 0.8105 - val_loss: 0.6507 - val_accuracy: 0.7927\n",
      "\n",
      "Epoch 00028: val_loss improved from 0.66128 to 0.65067, saving model to resnet50_best_weights.h5\n",
      "Epoch 29/60\n",
      "460/460 [==============================] - 26s 57ms/step - loss: 0.5405 - accuracy: 0.8105 - val_loss: 0.8440 - val_accuracy: 0.7500\n",
      "\n",
      "Epoch 00029: val_loss did not improve from 0.65067\n",
      "Epoch 30/60\n",
      "460/460 [==============================] - 26s 57ms/step - loss: 0.5173 - accuracy: 0.8149 - val_loss: 0.6235 - val_accuracy: 0.8049\n",
      "\n",
      "Epoch 00030: val_loss improved from 0.65067 to 0.62353, saving model to resnet50_best_weights.h5\n",
      "Epoch 31/60\n",
      "460/460 [==============================] - 26s 57ms/step - loss: 0.4924 - accuracy: 0.8210 - val_loss: 1.1917 - val_accuracy: 0.7419\n",
      "\n",
      "Epoch 00031: val_loss did not improve from 0.62353\n",
      "Epoch 32/60\n",
      "460/460 [==============================] - 26s 57ms/step - loss: 0.4955 - accuracy: 0.8249 - val_loss: 0.6952 - val_accuracy: 0.7602\n",
      "\n",
      "Epoch 00032: val_loss did not improve from 0.62353\n",
      "Epoch 33/60\n",
      "460/460 [==============================] - 26s 57ms/step - loss: 0.5252 - accuracy: 0.8145 - val_loss: 0.7383 - val_accuracy: 0.7846\n",
      "\n",
      "Epoch 00033: val_loss did not improve from 0.62353\n",
      "Epoch 34/60\n",
      "460/460 [==============================] - 26s 56ms/step - loss: 0.4765 - accuracy: 0.8271 - val_loss: 0.8485 - val_accuracy: 0.7500\n",
      "\n",
      "Epoch 00034: val_loss did not improve from 0.62353\n",
      "Epoch 35/60\n",
      "460/460 [==============================] - 26s 56ms/step - loss: 0.4577 - accuracy: 0.8332 - val_loss: 1.7071 - val_accuracy: 0.6728\n",
      "\n",
      "Epoch 00035: val_loss did not improve from 0.62353\n",
      "Epoch 36/60\n",
      "460/460 [==============================] - 26s 56ms/step - loss: 0.4639 - accuracy: 0.8358 - val_loss: 1.1190 - val_accuracy: 0.6972\n",
      "\n",
      "Epoch 00036: val_loss did not improve from 0.62353\n",
      "Epoch 37/60\n",
      "460/460 [==============================] - 26s 55ms/step - loss: 0.4265 - accuracy: 0.8449 - val_loss: 1.0266 - val_accuracy: 0.7236\n",
      "\n",
      "Epoch 00037: val_loss did not improve from 0.62353\n",
      "Epoch 38/60\n",
      "460/460 [==============================] - 26s 56ms/step - loss: 0.4240 - accuracy: 0.8493 - val_loss: 0.5589 - val_accuracy: 0.8150\n",
      "\n",
      "Epoch 00038: val_loss improved from 0.62353 to 0.55890, saving model to resnet50_best_weights.h5\n",
      "Epoch 39/60\n",
      "460/460 [==============================] - 26s 56ms/step - loss: 0.4006 - accuracy: 0.8589 - val_loss: 0.7472 - val_accuracy: 0.7581\n",
      "\n",
      "Epoch 00039: val_loss did not improve from 0.55890\n",
      "Epoch 40/60\n",
      "460/460 [==============================] - 26s 56ms/step - loss: 0.4087 - accuracy: 0.8532 - val_loss: 0.7788 - val_accuracy: 0.7988\n",
      "\n",
      "Epoch 00040: val_loss did not improve from 0.55890\n",
      "Epoch 41/60\n",
      "460/460 [==============================] - 26s 56ms/step - loss: 0.4160 - accuracy: 0.8458 - val_loss: 0.6194 - val_accuracy: 0.8089\n",
      "\n",
      "Epoch 00041: val_loss did not improve from 0.55890\n",
      "Epoch 42/60\n",
      "460/460 [==============================] - 26s 56ms/step - loss: 0.4095 - accuracy: 0.8528 - val_loss: 0.7834 - val_accuracy: 0.7825\n",
      "\n",
      "Epoch 00042: val_loss did not improve from 0.55890\n",
      "Epoch 43/60\n",
      "460/460 [==============================] - 26s 56ms/step - loss: 0.3670 - accuracy: 0.8685 - val_loss: 1.4864 - val_accuracy: 0.7175\n",
      "\n",
      "Epoch 00043: val_loss did not improve from 0.55890\n",
      "Epoch 44/60\n",
      "460/460 [==============================] - 26s 56ms/step - loss: 0.4081 - accuracy: 0.8480 - val_loss: 0.6994 - val_accuracy: 0.7967\n",
      "\n",
      "Epoch 00044: val_loss did not improve from 0.55890\n",
      "Epoch 45/60\n",
      "460/460 [==============================] - 26s 56ms/step - loss: 0.3845 - accuracy: 0.8611 - val_loss: 0.7029 - val_accuracy: 0.7866\n",
      "\n",
      "Epoch 00045: val_loss did not improve from 0.55890\n",
      "Epoch 46/60\n",
      "460/460 [==============================] - 26s 56ms/step - loss: 0.3736 - accuracy: 0.8698 - val_loss: 0.6712 - val_accuracy: 0.7886\n",
      "\n",
      "Epoch 00046: val_loss did not improve from 0.55890\n",
      "Epoch 47/60\n",
      "460/460 [==============================] - 26s 56ms/step - loss: 0.3447 - accuracy: 0.8794 - val_loss: 0.7603 - val_accuracy: 0.7805\n",
      "\n",
      "Epoch 00047: val_loss did not improve from 0.55890\n",
      "Epoch 48/60\n",
      "460/460 [==============================] - 26s 56ms/step - loss: 0.3493 - accuracy: 0.8807 - val_loss: 0.5524 - val_accuracy: 0.8272\n",
      "\n",
      "Epoch 00048: val_loss improved from 0.55890 to 0.55237, saving model to resnet50_best_weights.h5\n",
      "Epoch 49/60\n",
      "460/460 [==============================] - 25s 55ms/step - loss: 0.3410 - accuracy: 0.8750 - val_loss: 1.1198 - val_accuracy: 0.7276\n",
      "\n",
      "Epoch 00049: val_loss did not improve from 0.55237\n",
      "Epoch 50/60\n",
      "460/460 [==============================] - 26s 55ms/step - loss: 0.3187 - accuracy: 0.8837 - val_loss: 1.3122 - val_accuracy: 0.6687\n",
      "\n",
      "Epoch 00050: val_loss did not improve from 0.55237\n",
      "Epoch 51/60\n",
      "460/460 [==============================] - 26s 56ms/step - loss: 0.2975 - accuracy: 0.8937 - val_loss: 1.2564 - val_accuracy: 0.6768\n",
      "\n",
      "Epoch 00051: val_loss did not improve from 0.55237\n",
      "Epoch 52/60\n",
      "460/460 [==============================] - 26s 55ms/step - loss: 0.3228 - accuracy: 0.8881 - val_loss: 1.0645 - val_accuracy: 0.7256\n",
      "\n",
      "Epoch 00052: val_loss did not improve from 0.55237\n",
      "Epoch 53/60\n",
      "460/460 [==============================] - 26s 55ms/step - loss: 0.3315 - accuracy: 0.8828 - val_loss: 0.8015 - val_accuracy: 0.7561\n",
      "\n",
      "Epoch 00053: val_loss did not improve from 0.55237\n",
      "Epoch 54/60\n",
      "460/460 [==============================] - 26s 55ms/step - loss: 0.3090 - accuracy: 0.8898 - val_loss: 0.7328 - val_accuracy: 0.7703\n",
      "\n",
      "Epoch 00054: val_loss did not improve from 0.55237\n",
      "Epoch 55/60\n",
      "460/460 [==============================] - 25s 55ms/step - loss: 0.2930 - accuracy: 0.9016 - val_loss: 0.6808 - val_accuracy: 0.8191\n",
      "\n",
      "Epoch 00055: val_loss did not improve from 0.55237\n",
      "Epoch 56/60\n",
      "460/460 [==============================] - 28s 60ms/step - loss: 0.2969 - accuracy: 0.9003 - val_loss: 1.3544 - val_accuracy: 0.7012\n",
      "\n",
      "Epoch 00056: val_loss did not improve from 0.55237\n",
      "Epoch 57/60\n",
      "460/460 [==============================] - 27s 59ms/step - loss: 0.2978 - accuracy: 0.8933 - val_loss: 0.6737 - val_accuracy: 0.8130\n",
      "\n",
      "Epoch 00057: val_loss did not improve from 0.55237\n",
      "Epoch 58/60\n",
      "460/460 [==============================] - 26s 57ms/step - loss: 0.2490 - accuracy: 0.9111 - val_loss: 0.7488 - val_accuracy: 0.8252\n",
      "\n",
      "Epoch 00058: val_loss did not improve from 0.55237\n"
     ]
    },
    {
     "data": {
      "image/png": "[encoded data removed]",
      "text/plain": [
       "<Figure size 640x480 with 1 Axes>"
      ]
     },
     "metadata": {},
     "output_type": "display_data"
    }
   ],
   "source": [
    "# resnet50 model training\n",
    "resnet50_model = train_model('resnet50', X_train, y_train, X_val, y_val)"
   ]
  },
  {
   "cell_type": "code",
   "execution_count": 9,
   "id": "1f7694b2",
   "metadata": {
    "colab": {
     "base_uri": "https://localhost:8080/"
    },
    "executionInfo": {
     "elapsed": 10902,
     "status": "ok",
     "timestamp": 1683061186641,
     "user": {
      "displayName": "Albert Li",
      "userId": "17410696238706252575"
     },
     "user_tz": 300
    },
    "id": "O8l_wKYkHPR_",
    "outputId": "b10209db-3939-4bc4-9c64-250a1c0f4aa3"
   },
   "outputs": [],
   "source": [
    "# evaluation for both train & test of resnet50\n",
    "resnet50_cm_train, resnet50_precision_train, resnet50_recall_train, resnet50_accuracy_train, resnet50_f1_train = evaluate_model(resnet50_model, X_train, y_train)\n",
    "resnet50_cm_test, resnet50_precision_test, resnet50_recall_test, resnet50_accuracy_test, resnet50_f1_test = evaluate_model(resnet50_model, X_test, y_test)\n",
    "\n"
   ]
  },
  {
   "cell_type": "code",
   "execution_count": 10,
   "id": "21094691",
   "metadata": {
    "colab": {
     "base_uri": "https://localhost:8080/"
    },
    "executionInfo": {
     "elapsed": 152,
     "status": "ok",
     "timestamp": 1683061257454,
     "user": {
      "displayName": "Albert Li",
      "userId": "17410696238706252575"
     },
     "user_tz": 300
    },
    "id": "_w6YtZE3RgIM",
    "outputId": "27a980a6-a297-4089-ef4f-db0cdc3b5ad9"
   },
   "outputs": [
    {
     "name": "stdout",
     "output_type": "stream",
     "text": [
      "Training dataset:\n",
      "Confusion matrix: \n",
      " [[451   1  11  44   8]\n",
      " [  4 294   4   7  35]\n",
      " [  7   4 405  12  16]\n",
      " [  1   9  34 440  16]\n",
      " [  1   3  10  17 462]]\n",
      "Precision: 0.90\n",
      "Recall: 0.89\n",
      "Accuracy: 0.89\n",
      "F1-score: 0.89\n",
      "\n",
      "Test dataset:\n",
      "Confusion matrix: \n",
      " [[91  1  6  8  4]\n",
      " [ 6 48  3  3 14]\n",
      " [ 4  3 77  2  9]\n",
      " [ 1  1  7 95  4]\n",
      " [ 2  1  4  5 93]]\n",
      "Precision: 0.83\n",
      "Recall: 0.82\n",
      "Accuracy: 0.82\n",
      "F1-score: 0.82\n"
     ]
    }
   ],
   "source": [
    "# For the training dataset\n",
    "print(\"Training dataset:\")\n",
    "print(\"Confusion matrix: \\n\", resnet50_cm_train)\n",
    "print(\"Precision: {:.2f}\".format(resnet50_precision_train))\n",
    "print(\"Recall: {:.2f}\".format(resnet50_recall_train))\n",
    "print(\"Accuracy: {:.2f}\".format(resnet50_accuracy_train))\n",
    "print(\"F1-score: {:.2f}\".format(resnet50_f1_train))\n",
    "\n",
    "# For the test dataset\n",
    "print(\"\\nTest dataset:\")\n",
    "print(\"Confusion matrix: \\n\", resnet50_cm_test)\n",
    "print(\"Precision: {:.2f}\".format(resnet50_precision_test))\n",
    "print(\"Recall: {:.2f}\".format(resnet50_recall_test))\n",
    "print(\"Accuracy: {:.2f}\".format(resnet50_accuracy_test))\n",
    "print(\"F1-score: {:.2f}\".format(resnet50_f1_test))\n"
   ]
  },
  {
   "cell_type": "code",
   "execution_count": 11,
   "id": "ab09b53f",
   "metadata": {
    "colab": {
     "base_uri": "https://localhost:8080/",
     "height": 294
    },
    "executionInfo": {
     "elapsed": 609,
     "status": "error",
     "timestamp": 1683065065546,
     "user": {
      "displayName": "Albert Li",
      "userId": "17410696238706252575"
     },
     "user_tz": 300
    },
    "id": "CdhzZBAaQCNF",
    "outputId": "f8d0b428-6400-4a1b-bbef-3309350ca105"
   },
   "outputs": [
    {
     "name": "stdout",
     "output_type": "stream",
     "text": [
      "Epoch 1/60\n",
      "460/460 [==============================] - 43s 77ms/step - loss: 0.8902 - accuracy: 0.6664 - val_loss: 0.3680 - val_accuracy: 0.8760\n",
      "\n",
      "Epoch 00001: val_loss improved from inf to 0.36797, saving model to efficientnet_b0_best_weights.h5\n"
     ]
    },
    {
     "name": "stderr",
     "output_type": "stream",
     "text": [
      "C:\\Users\\kaiyi\\anaconda3\\envs\\ts\\lib\\site-packages\\keras\\utils\\generic_utils.py:494: CustomMaskWarning: Custom mask layers require a config and must override get_config. When loading, the custom mask layer must be passed to the custom_objects argument.\n",
      "  warnings.warn('Custom mask layers require a config and must override '\n"
     ]
    },
    {
     "name": "stdout",
     "output_type": "stream",
     "text": [
      "Epoch 2/60\n",
      "460/460 [==============================] - 32s 70ms/step - loss: 0.6485 - accuracy: 0.7748 - val_loss: 0.8100 - val_accuracy: 0.8313\n",
      "\n",
      "Epoch 00002: val_loss did not improve from 0.36797\n",
      "Epoch 3/60\n",
      "460/460 [==============================] - 33s 72ms/step - loss: 0.5206 - accuracy: 0.8201 - val_loss: 1.6777 - val_accuracy: 0.7337\n",
      "\n",
      "Epoch 00003: val_loss did not improve from 0.36797\n",
      "Epoch 4/60\n",
      "460/460 [==============================] - 32s 70ms/step - loss: 0.5123 - accuracy: 0.8293 - val_loss: 0.6714 - val_accuracy: 0.8150\n",
      "\n",
      "Epoch 00004: val_loss did not improve from 0.36797\n",
      "Epoch 5/60\n",
      "460/460 [==============================] - 32s 69ms/step - loss: 0.4312 - accuracy: 0.8550 - val_loss: 0.5606 - val_accuracy: 0.8516\n",
      "\n",
      "Epoch 00005: val_loss did not improve from 0.36797\n",
      "Epoch 6/60\n",
      "460/460 [==============================] - 32s 69ms/step - loss: 0.4058 - accuracy: 0.8650 - val_loss: 0.4329 - val_accuracy: 0.8638\n",
      "\n",
      "Epoch 00006: val_loss did not improve from 0.36797\n",
      "Epoch 7/60\n",
      "460/460 [==============================] - 32s 69ms/step - loss: 0.3755 - accuracy: 0.8741 - val_loss: 0.4114 - val_accuracy: 0.8923\n",
      "\n",
      "Epoch 00007: val_loss did not improve from 0.36797\n",
      "Epoch 8/60\n",
      "460/460 [==============================] - 32s 69ms/step - loss: 0.3361 - accuracy: 0.8837 - val_loss: 0.3135 - val_accuracy: 0.8902\n",
      "\n",
      "Epoch 00008: val_loss improved from 0.36797 to 0.31347, saving model to efficientnet_b0_best_weights.h5\n",
      "Epoch 9/60\n",
      "460/460 [==============================] - 32s 69ms/step - loss: 0.3217 - accuracy: 0.8937 - val_loss: 0.3511 - val_accuracy: 0.8963\n",
      "\n",
      "Epoch 00009: val_loss did not improve from 0.31347\n",
      "Epoch 10/60\n",
      "460/460 [==============================] - 32s 69ms/step - loss: 0.3568 - accuracy: 0.8698 - val_loss: 0.2581 - val_accuracy: 0.9228\n",
      "\n",
      "Epoch 00010: val_loss improved from 0.31347 to 0.25811, saving model to efficientnet_b0_best_weights.h5\n",
      "Epoch 11/60\n",
      "460/460 [==============================] - 33s 72ms/step - loss: 0.2658 - accuracy: 0.9072 - val_loss: 0.2758 - val_accuracy: 0.9146\n",
      "\n",
      "Epoch 00011: val_loss did not improve from 0.25811\n",
      "Epoch 12/60\n",
      "460/460 [==============================] - 32s 69ms/step - loss: 0.2925 - accuracy: 0.9029 - val_loss: 0.4882 - val_accuracy: 0.8841\n",
      "\n",
      "Epoch 00012: val_loss did not improve from 0.25811\n",
      "Epoch 13/60\n",
      "460/460 [==============================] - 32s 69ms/step - loss: 0.2694 - accuracy: 0.9046 - val_loss: 0.6994 - val_accuracy: 0.8293\n",
      "\n",
      "Epoch 00013: val_loss did not improve from 0.25811\n",
      "Epoch 14/60\n",
      "460/460 [==============================] - 32s 70ms/step - loss: 0.2635 - accuracy: 0.9042 - val_loss: 0.4720 - val_accuracy: 0.8841\n",
      "\n",
      "Epoch 00014: val_loss did not improve from 0.25811\n",
      "Epoch 15/60\n",
      "460/460 [==============================] - 32s 70ms/step - loss: 0.2500 - accuracy: 0.9111 - val_loss: 0.3342 - val_accuracy: 0.9065\n",
      "\n",
      "Epoch 00015: val_loss did not improve from 0.25811\n",
      "Epoch 16/60\n",
      "460/460 [==============================] - 32s 70ms/step - loss: 0.2621 - accuracy: 0.9094 - val_loss: 0.3225 - val_accuracy: 0.8963\n",
      "\n",
      "Epoch 00016: val_loss did not improve from 0.25811\n",
      "Epoch 17/60\n",
      "460/460 [==============================] - 33s 71ms/step - loss: 0.2246 - accuracy: 0.9238 - val_loss: 0.3127 - val_accuracy: 0.9146\n",
      "\n",
      "Epoch 00017: val_loss did not improve from 0.25811\n",
      "Epoch 18/60\n",
      "460/460 [==============================] - 33s 71ms/step - loss: 0.2068 - accuracy: 0.9286 - val_loss: 0.5860 - val_accuracy: 0.8720\n",
      "\n",
      "Epoch 00018: val_loss did not improve from 0.25811\n",
      "Epoch 19/60\n",
      "460/460 [==============================] - 33s 72ms/step - loss: 0.2281 - accuracy: 0.9164 - val_loss: 1.0149 - val_accuracy: 0.8618\n",
      "\n",
      "Epoch 00019: val_loss did not improve from 0.25811\n",
      "Epoch 20/60\n",
      "460/460 [==============================] - 32s 70ms/step - loss: 0.2061 - accuracy: 0.9268 - val_loss: 0.3205 - val_accuracy: 0.9126\n",
      "\n",
      "Epoch 00020: val_loss did not improve from 0.25811\n"
     ]
    },
    {
     "data": {
      "image/png": "[encoded data removed]",
      "text/plain": [
       "<Figure size 640x480 with 1 Axes>"
      ]
     },
     "metadata": {},
     "output_type": "display_data"
    },
    {
     "name": "stdout",
     "output_type": "stream",
     "text": [
      "Evaluation on Training Dataset:\n",
      "Confusion matrix: \n",
      " [[486   9   1  11   8]\n",
      " [  0 316   3   4  21]\n",
      " [  0   1 424   8  11]\n",
      " [  1   3   0 493   3]\n",
      " [  0   4   2   6 481]]\n",
      "Precision: 0.96\n",
      "Recall: 0.96\n",
      "Accuracy: 0.96\n",
      "F1-score: 0.96\n",
      "\n",
      "Evaluation on Test Dataset:\n",
      "\n",
      "Test dataset (EfficientNetB0):\n",
      "Confusion matrix: \n",
      " [[ 94   5   3   5   3]\n",
      " [  0  66   3   1   4]\n",
      " [  0   2  78  11   4]\n",
      " [  1   1   1 104   1]\n",
      " [  0   2   1   9  93]]\n",
      "Precision: 0.89\n",
      "Recall: 0.88\n",
      "Accuracy: 0.88\n",
      "F1-score: 0.88\n"
     ]
    }
   ],
   "source": [
    "efficientnet_b0_model = train_model('efficientnet_b0', X_train, y_train, X_val, y_val)\n",
    "\n",
    "print(\"Evaluation on Training Dataset:\")\n",
    "efficientnet_b0_cm_train, efficientnet_b0_precision_train, efficientnet_b0_recall_train, efficientnet_b0_accuracy_train, efficientnet_b0_f1_train = evaluate_model(efficientnet_b0_model, X_train, y_train)\n",
    "print(\"Confusion matrix: \\n\", efficientnet_b0_cm_train)\n",
    "print(\"Precision: {:.2f}\".format(efficientnet_b0_precision_train))\n",
    "print(\"Recall: {:.2f}\".format(efficientnet_b0_recall_train))\n",
    "print(\"Accuracy: {:.2f}\".format(efficientnet_b0_accuracy_train))\n",
    "print(\"F1-score: {:.2f}\".format(efficientnet_b0_f1_train))\n",
    "\n",
    "\n",
    "print(\"\\nEvaluation on Test Dataset:\")\n",
    "efficientnet_b0_cm_test, efficientnet_b0_precision_test, efficientnet_b0_recall_test, efficientnet_b0_accuracy_test, efficientnet_b0_f1_test = evaluate_model(efficientnet_b0_model, X_test, y_test)\n",
    "print(\"\\nTest dataset (EfficientNetB0):\")\n",
    "print(\"Confusion matrix: \\n\", efficientnet_b0_cm_test)\n",
    "print(\"Precision: {:.2f}\".format(efficientnet_b0_precision_test))\n",
    "print(\"Recall: {:.2f}\".format(efficientnet_b0_recall_test))\n",
    "print(\"Accuracy: {:.2f}\".format(efficientnet_b0_accuracy_test))\n",
    "print(\"F1-score: {:.2f}\".format(efficientnet_b0_f1_test))\n"
   ]
  },
  {
   "cell_type": "code",
   "execution_count": 12,
   "id": "ee75d65b",
   "metadata": {
    "colab": {
     "base_uri": "https://localhost:8080/",
     "height": 1000
    },
    "executionInfo": {
     "elapsed": 1539227,
     "status": "error",
     "timestamp": 1683063994180,
     "user": {
      "displayName": "Albert Li",
      "userId": "17410696238706252575"
     },
     "user_tz": 300
    },
    "id": "cREFGpukqN6P",
    "outputId": "70e70472-a13e-4017-8ab1-55ae101c82b2"
   },
   "outputs": [
    {
     "name": "stdout",
     "output_type": "stream",
     "text": [
      "Epoch 1/60\n",
      "460/460 [==============================] - 26s 52ms/step - loss: 7.5255 - accuracy: 0.2182 - val_loss: 1.6042 - val_accuracy: 0.2236\n",
      "\n",
      "Epoch 00001: val_loss improved from inf to 1.60416, saving model to vgg16_best_weights.h5\n",
      "Epoch 2/60\n",
      "460/460 [==============================] - 21s 45ms/step - loss: 1.6030 - accuracy: 0.2143 - val_loss: 1.6015 - val_accuracy: 0.2236\n",
      "\n",
      "Epoch 00002: val_loss improved from 1.60416 to 1.60155, saving model to vgg16_best_weights.h5\n",
      "Epoch 3/60\n",
      "460/460 [==============================] - 21s 45ms/step - loss: 1.6012 - accuracy: 0.2178 - val_loss: 1.6006 - val_accuracy: 0.2236\n",
      "\n",
      "Epoch 00003: val_loss improved from 1.60155 to 1.60055, saving model to vgg16_best_weights.h5\n",
      "Epoch 4/60\n",
      "460/460 [==============================] - 21s 45ms/step - loss: 2.1717 - accuracy: 0.2165 - val_loss: 1.6000 - val_accuracy: 0.2236\n",
      "\n",
      "Epoch 00004: val_loss improved from 1.60055 to 1.60004, saving model to vgg16_best_weights.h5\n",
      "Epoch 5/60\n",
      "460/460 [==============================] - 21s 46ms/step - loss: 1.6002 - accuracy: 0.2199 - val_loss: 1.6000 - val_accuracy: 0.2236\n",
      "\n",
      "Epoch 00005: val_loss improved from 1.60004 to 1.59999, saving model to vgg16_best_weights.h5\n",
      "Epoch 6/60\n",
      "460/460 [==============================] - 21s 46ms/step - loss: 1.6001 - accuracy: 0.2243 - val_loss: 1.6000 - val_accuracy: 0.2236\n",
      "\n",
      "Epoch 00006: val_loss improved from 1.59999 to 1.59995, saving model to vgg16_best_weights.h5\n",
      "Epoch 7/60\n",
      "460/460 [==============================] - 21s 46ms/step - loss: 1.6001 - accuracy: 0.2243 - val_loss: 1.5999 - val_accuracy: 0.2236\n",
      "\n",
      "Epoch 00007: val_loss improved from 1.59995 to 1.59994, saving model to vgg16_best_weights.h5\n",
      "Epoch 8/60\n",
      "460/460 [==============================] - 22s 48ms/step - loss: 1.6001 - accuracy: 0.2243 - val_loss: 1.5999 - val_accuracy: 0.2236\n",
      "\n",
      "Epoch 00008: val_loss improved from 1.59994 to 1.59993, saving model to vgg16_best_weights.h5\n",
      "Epoch 9/60\n",
      "460/460 [==============================] - 21s 45ms/step - loss: 1.6000 - accuracy: 0.2243 - val_loss: 1.5999 - val_accuracy: 0.2236\n",
      "\n",
      "Epoch 00009: val_loss did not improve from 1.59993\n",
      "Epoch 10/60\n",
      "460/460 [==============================] - 22s 47ms/step - loss: 1.6001 - accuracy: 0.2191 - val_loss: 1.5999 - val_accuracy: 0.2236\n",
      "\n",
      "Epoch 00010: val_loss improved from 1.59993 to 1.59992, saving model to vgg16_best_weights.h5\n",
      "Epoch 11/60\n",
      "460/460 [==============================] - 23s 51ms/step - loss: 1.6001 - accuracy: 0.2243 - val_loss: 1.5999 - val_accuracy: 0.2236\n",
      "\n",
      "Epoch 00011: val_loss did not improve from 1.59992\n",
      "Epoch 12/60\n",
      "460/460 [==============================] - 24s 52ms/step - loss: 1.6001 - accuracy: 0.2243 - val_loss: 1.5999 - val_accuracy: 0.2236\n",
      "\n",
      "Epoch 00012: val_loss did not improve from 1.59992\n",
      "Epoch 13/60\n",
      "460/460 [==============================] - 24s 52ms/step - loss: 1.6001 - accuracy: 0.2243 - val_loss: 1.5999 - val_accuracy: 0.2236\n",
      "\n",
      "Epoch 00013: val_loss did not improve from 1.59992\n",
      "Epoch 14/60\n",
      "460/460 [==============================] - 23s 50ms/step - loss: 1.6002 - accuracy: 0.2243 - val_loss: 1.5999 - val_accuracy: 0.2236\n",
      "\n",
      "Epoch 00014: val_loss did not improve from 1.59992\n",
      "Epoch 15/60\n",
      "460/460 [==============================] - 23s 49ms/step - loss: 1.6001 - accuracy: 0.2226 - val_loss: 1.5999 - val_accuracy: 0.2236\n",
      "\n",
      "Epoch 00015: val_loss did not improve from 1.59992\n",
      "Epoch 16/60\n",
      "460/460 [==============================] - 22s 47ms/step - loss: 1.6001 - accuracy: 0.2243 - val_loss: 1.5999 - val_accuracy: 0.2236\n",
      "\n",
      "Epoch 00016: val_loss did not improve from 1.59992\n",
      "Epoch 17/60\n",
      "460/460 [==============================] - 21s 46ms/step - loss: 1.6001 - accuracy: 0.2243 - val_loss: 1.5999 - val_accuracy: 0.2236\n",
      "\n",
      "Epoch 00017: val_loss did not improve from 1.59992\n",
      "Epoch 18/60\n",
      "460/460 [==============================] - 21s 47ms/step - loss: 1.6001 - accuracy: 0.2243 - val_loss: 1.6000 - val_accuracy: 0.2236\n",
      "\n",
      "Epoch 00018: val_loss did not improve from 1.59992\n",
      "Epoch 19/60\n",
      "460/460 [==============================] - 21s 46ms/step - loss: 1.6002 - accuracy: 0.2243 - val_loss: 1.6000 - val_accuracy: 0.2236\n",
      "\n",
      "Epoch 00019: val_loss did not improve from 1.59992\n",
      "Epoch 20/60\n",
      "460/460 [==============================] - 21s 47ms/step - loss: 1.6002 - accuracy: 0.2243 - val_loss: 1.5999 - val_accuracy: 0.2236\n",
      "\n",
      "Epoch 00020: val_loss did not improve from 1.59992\n"
     ]
    },
    {
     "data": {
      "image/png": "[encoded data removed]",
      "text/plain": [
       "<Figure size 640x480 with 1 Axes>"
      ]
     },
     "metadata": {},
     "output_type": "display_data"
    }
   ],
   "source": [
    "# vgg16 model trianing\n",
    "\n",
    "vgg16_model = train_model('vgg16', X_train, y_train, X_val, y_val)"
   ]
  },
  {
   "cell_type": "code",
   "execution_count": 13,
   "id": "e5f62619",
   "metadata": {
    "colab": {
     "base_uri": "https://localhost:8080/",
     "height": 276
    },
    "executionInfo": {
     "elapsed": 298,
     "status": "error",
     "timestamp": 1683065114687,
     "user": {
      "displayName": "Albert Li",
      "userId": "17410696238706252575"
     },
     "user_tz": 300
    },
    "id": "ERk9fttUfgN5",
    "outputId": "001553f5-8168-463a-cacc-7e203f91354e"
   },
   "outputs": [
    {
     "name": "stdout",
     "output_type": "stream",
     "text": [
      "Evaluation on Training Dataset:\n"
     ]
    },
    {
     "name": "stderr",
     "output_type": "stream",
     "text": [
      "C:\\Users\\kaiyi\\anaconda3\\envs\\ts\\lib\\site-packages\\sklearn\\metrics\\_classification.py:1344: UndefinedMetricWarning: Precision is ill-defined and being set to 0.0 in labels with no predicted samples. Use `zero_division` parameter to control this behavior.\n",
      "  _warn_prf(average, modifier, msg_start, len(result))\n"
     ]
    },
    {
     "name": "stdout",
     "output_type": "stream",
     "text": [
      "Confusion matrix: \n",
      " [[515   0   0   0   0]\n",
      " [344   0   0   0   0]\n",
      " [444   0   0   0   0]\n",
      " [500   0   0   0   0]\n",
      " [493   0   0   0   0]]\n",
      "Precision: 0.05\n",
      "Recall: 0.22\n",
      "Accuracy: 0.22\n",
      "F1-score: 0.08\n",
      "\n",
      "Evaluation on Test Dataset:\n",
      "Confusion matrix: \n",
      " [[110   0   0   0   0]\n",
      " [ 74   0   0   0   0]\n",
      " [ 95   0   0   0   0]\n",
      " [108   0   0   0   0]\n",
      " [105   0   0   0   0]]\n",
      "Precision: 0.05\n",
      "Recall: 0.22\n",
      "Accuracy: 0.22\n",
      "F1-score: 0.08\n"
     ]
    },
    {
     "name": "stderr",
     "output_type": "stream",
     "text": [
      "C:\\Users\\kaiyi\\anaconda3\\envs\\ts\\lib\\site-packages\\sklearn\\metrics\\_classification.py:1344: UndefinedMetricWarning: Precision is ill-defined and being set to 0.0 in labels with no predicted samples. Use `zero_division` parameter to control this behavior.\n",
      "  _warn_prf(average, modifier, msg_start, len(result))\n"
     ]
    }
   ],
   "source": [
    "print(\"Evaluation on Training Dataset:\")\n",
    "vgg16_cm_train, vgg16_precision_train, vgg16_recall_train, vgg16_accuracy_train, vgg16_f1_train = evaluate_model(vgg16_model, X_train, y_train)\n",
    "print(\"Confusion matrix: \\n\", vgg16_cm_train)\n",
    "print(\"Precision: {:.2f}\".format(vgg16_precision_train))\n",
    "print(\"Recall: {:.2f}\".format(vgg16_recall_train))\n",
    "print(\"Accuracy: {:.2f}\".format(vgg16_accuracy_train))\n",
    "print(\"F1-score: {:.2f}\".format(vgg16_f1_train))\n",
    "\n",
    "print(\"\\nEvaluation on Test Dataset:\")\n",
    "vgg16_cm_test, vgg16_precision_test, vgg16_recall_test, vgg16_accuracy_test, vgg16_f1_test = evaluate_model(vgg16_model, X_test, y_test)\n",
    "print(\"Confusion matrix: \\n\", vgg16_cm_test)\n",
    "print(\"Precision: {:.2f}\".format(vgg16_precision_test))\n",
    "print(\"Recall: {:.2f}\".format(vgg16_recall_test))\n",
    "print(\"Accuracy: {:.2f}\".format(vgg16_accuracy_test))\n",
    "print(\"F1-score: {:.2f}\".format(vgg16_f1_test))"
   ]
  },
  {
   "cell_type": "markdown",
   "id": "b7047aff",
   "metadata": {
    "id": "ae32c8e9"
   },
   "source": [
    "### Part f"
   ]
  },
  {
   "cell_type": "code",
   "execution_count": 12,
   "id": "8a0ed99b",
   "metadata": {},
   "outputs": [],
   "source": [
    "def train_model(model_name, X_train, y_train, X_val, y_val, epochs=None):\n",
    "    model = create_model(model_name)\n",
    "    model.compile(optimizer=Adam(), loss='sparse_categorical_crossentropy', metrics=['accuracy'])\n",
    "\n",
    "    checkpoint_filepath = f\"{model_name}_best_weights.h5\"\n",
    "    model_checkpoint = ModelCheckpoint(checkpoint_filepath, monitor='val_loss', verbose=1, save_best_only=True, mode='min')\n",
    "    early_stopping = EarlyStopping(monitor='val_loss', patience=10)\n",
    "\n",
    "    if epochs is None:\n",
    "        history = model.fit(datagen.flow(X_train, y_train, batch_size=5), epochs=60, validation_data=(X_val, y_val), callbacks=[early_stopping, model_checkpoint])\n",
    "        best_epoch = early_stopping.stopped_epoch\n",
    "        model.load_weights(checkpoint_filepath)\n",
    "\n",
    "        plt.plot(history.history['loss'], label='Training Loss')\n",
    "        plt.plot(history.history['val_loss'], label='Validation Loss')\n",
    "        plt.xlabel('Epochs')\n",
    "        plt.ylabel('Loss')\n",
    "        plt.title(f'{model_name} - Training and Validation Loss')\n",
    "        plt.legend()\n",
    "        plt.show()\n",
    "    else:\n",
    "        X_combined = np.concatenate((X_train, X_val), axis=0)\n",
    "        y_combined = np.concatenate((y_train, y_val), axis=0)\n",
    "\n",
    "        history = model.fit(datagen.flow(X_combined, y_combined, batch_size=5), epochs=epochs)\n",
    "\n",
    "    # Save the model with the correct name\n",
    "    model.save(f\"{model_name}.h5\")\n",
    "\n",
    "    return model\n"
   ]
  },
  {
   "cell_type": "code",
   "execution_count": 12,
   "id": "939026c4",
   "metadata": {
    "scrolled": true
   },
   "outputs": [
    {
     "name": "stdout",
     "output_type": "stream",
     "text": [
      "Epoch 1/58\n",
      "558/558 [==============================] - 36s 57ms/step - loss: 1.5196 - accuracy: 0.4096\n",
      "Epoch 2/58\n",
      "558/558 [==============================] - 32s 57ms/step - loss: 1.2382 - accuracy: 0.5190\n",
      "Epoch 3/58\n",
      "558/558 [==============================] - 31s 56ms/step - loss: 1.1366 - accuracy: 0.5560\n",
      "Epoch 4/58\n",
      "558/558 [==============================] - 31s 55ms/step - loss: 1.0314 - accuracy: 0.6044\n",
      "Epoch 5/58\n",
      "558/558 [==============================] - 31s 55ms/step - loss: 0.9746 - accuracy: 0.6320\n",
      "Epoch 6/58\n",
      "558/558 [==============================] - 31s 55ms/step - loss: 0.9106 - accuracy: 0.6718\n",
      "Epoch 7/58\n",
      "558/558 [==============================] - 31s 56ms/step - loss: 0.8589 - accuracy: 0.6901\n",
      "Epoch 8/58\n",
      "558/558 [==============================] - 30s 55ms/step - loss: 0.8565 - accuracy: 0.6923\n",
      "Epoch 9/58\n",
      "558/558 [==============================] - 31s 55ms/step - loss: 0.8454 - accuracy: 0.6980\n",
      "Epoch 10/58\n",
      "558/558 [==============================] - 30s 54ms/step - loss: 0.7900 - accuracy: 0.7159\n",
      "Epoch 11/58\n",
      "558/558 [==============================] - 30s 55ms/step - loss: 0.7594 - accuracy: 0.7285\n",
      "Epoch 12/58\n",
      "558/558 [==============================] - 31s 55ms/step - loss: 0.7419 - accuracy: 0.7270\n",
      "Epoch 13/58\n",
      "558/558 [==============================] - 31s 55ms/step - loss: 0.7085 - accuracy: 0.7489\n",
      "Epoch 14/58\n",
      "558/558 [==============================] - 31s 55ms/step - loss: 0.6855 - accuracy: 0.7518\n",
      "Epoch 15/58\n",
      "558/558 [==============================] - 31s 55ms/step - loss: 0.6533 - accuracy: 0.7665\n",
      "Epoch 16/58\n",
      "558/558 [==============================] - 31s 55ms/step - loss: 0.6287 - accuracy: 0.7776\n",
      "Epoch 17/58\n",
      "558/558 [==============================] - 31s 55ms/step - loss: 0.6094 - accuracy: 0.7812\n",
      "Epoch 18/58\n",
      "558/558 [==============================] - 31s 55ms/step - loss: 0.5960 - accuracy: 0.7909\n",
      "Epoch 19/58\n",
      "558/558 [==============================] - 31s 55ms/step - loss: 0.5864 - accuracy: 0.7873\n",
      "Epoch 20/58\n",
      "558/558 [==============================] - 31s 55ms/step - loss: 0.5554 - accuracy: 0.7941\n",
      "Epoch 21/58\n",
      "558/558 [==============================] - 31s 55ms/step - loss: 0.5281 - accuracy: 0.8074\n",
      "Epoch 22/58\n",
      "558/558 [==============================] - 31s 55ms/step - loss: 0.5519 - accuracy: 0.8016\n",
      "Epoch 23/58\n",
      "558/558 [==============================] - 31s 55ms/step - loss: 0.4976 - accuracy: 0.8253\n",
      "Epoch 24/58\n",
      "558/558 [==============================] - 31s 55ms/step - loss: 0.5068 - accuracy: 0.8264\n",
      "Epoch 25/58\n",
      "558/558 [==============================] - 31s 55ms/step - loss: 0.4673 - accuracy: 0.8393\n",
      "Epoch 26/58\n",
      "558/558 [==============================] - 30s 54ms/step - loss: 0.4782 - accuracy: 0.8311\n",
      "Epoch 27/58\n",
      "558/558 [==============================] - 31s 55ms/step - loss: 0.4668 - accuracy: 0.8350\n",
      "Epoch 28/58\n",
      "558/558 [==============================] - 31s 55ms/step - loss: 0.4592 - accuracy: 0.8433\n",
      "Epoch 29/58\n",
      "558/558 [==============================] - 31s 55ms/step - loss: 0.4460 - accuracy: 0.8425\n",
      "Epoch 30/58\n",
      "558/558 [==============================] - 31s 55ms/step - loss: 0.4335 - accuracy: 0.8440\n",
      "Epoch 31/58\n",
      "558/558 [==============================] - 31s 55ms/step - loss: 0.4172 - accuracy: 0.8594\n",
      "Epoch 32/58\n",
      "558/558 [==============================] - 31s 55ms/step - loss: 0.4176 - accuracy: 0.8576\n",
      "Epoch 33/58\n",
      "558/558 [==============================] - 31s 55ms/step - loss: 0.3848 - accuracy: 0.8551\n",
      "Epoch 34/58\n",
      "558/558 [==============================] - 31s 55ms/step - loss: 0.3819 - accuracy: 0.8655\n",
      "Epoch 35/58\n",
      "558/558 [==============================] - 32s 57ms/step - loss: 0.3635 - accuracy: 0.8777\n",
      "Epoch 36/58\n",
      "558/558 [==============================] - 31s 55ms/step - loss: 0.3630 - accuracy: 0.8687\n",
      "Epoch 37/58\n",
      "558/558 [==============================] - 31s 55ms/step - loss: 0.3531 - accuracy: 0.8809\n",
      "Epoch 38/58\n",
      "558/558 [==============================] - 30s 55ms/step - loss: 0.3435 - accuracy: 0.8763\n",
      "Epoch 39/58\n",
      "558/558 [==============================] - 31s 55ms/step - loss: 0.3431 - accuracy: 0.8763\n",
      "Epoch 40/58\n",
      "558/558 [==============================] - 31s 55ms/step - loss: 0.3400 - accuracy: 0.8809\n",
      "Epoch 41/58\n",
      "558/558 [==============================] - 31s 55ms/step - loss: 0.3083 - accuracy: 0.8888\n",
      "Epoch 42/58\n",
      "558/558 [==============================] - 31s 55ms/step - loss: 0.3189 - accuracy: 0.8928\n",
      "Epoch 43/58\n",
      "558/558 [==============================] - 31s 55ms/step - loss: 0.3078 - accuracy: 0.8974\n",
      "Epoch 44/58\n",
      "558/558 [==============================] - 31s 55ms/step - loss: 0.2493 - accuracy: 0.9125\n",
      "Epoch 45/58\n",
      "558/558 [==============================] - 31s 55ms/step - loss: 0.2920 - accuracy: 0.8956\n",
      "Epoch 46/58\n",
      "558/558 [==============================] - 30s 55ms/step - loss: 0.2998 - accuracy: 0.8974\n",
      "Epoch 47/58\n",
      "558/558 [==============================] - 31s 55ms/step - loss: 0.2955 - accuracy: 0.8953\n",
      "Epoch 48/58\n",
      "558/558 [==============================] - 31s 55ms/step - loss: 0.2635 - accuracy: 0.9093\n",
      "Epoch 49/58\n",
      "558/558 [==============================] - 31s 56ms/step - loss: 0.2885 - accuracy: 0.8956\n",
      "Epoch 50/58\n",
      "558/558 [==============================] - 31s 55ms/step - loss: 0.2551 - accuracy: 0.9100\n",
      "Epoch 51/58\n",
      "558/558 [==============================] - 31s 55ms/step - loss: 0.2469 - accuracy: 0.9150\n",
      "Epoch 52/58\n",
      "558/558 [==============================] - 31s 55ms/step - loss: 0.2373 - accuracy: 0.9193\n",
      "Epoch 53/58\n",
      "558/558 [==============================] - 31s 55ms/step - loss: 0.2337 - accuracy: 0.9146\n",
      "Epoch 54/58\n",
      "558/558 [==============================] - 31s 55ms/step - loss: 0.2416 - accuracy: 0.9139\n",
      "Epoch 55/58\n",
      "558/558 [==============================] - 31s 55ms/step - loss: 0.2448 - accuracy: 0.9164\n",
      "Epoch 56/58\n",
      "558/558 [==============================] - 31s 55ms/step - loss: 0.2397 - accuracy: 0.9125\n",
      "Epoch 57/58\n",
      "558/558 [==============================] - 31s 55ms/step - loss: 0.2058 - accuracy: 0.9247\n",
      "Epoch 58/58\n",
      "558/558 [==============================] - 31s 55ms/step - loss: 0.2338 - accuracy: 0.9211\n"
     ]
    },
    {
     "name": "stderr",
     "output_type": "stream",
     "text": [
      "C:\\Users\\kaiyi\\anaconda3\\envs\\ts\\lib\\site-packages\\keras\\utils\\generic_utils.py:494: CustomMaskWarning: Custom mask layers require a config and must override get_config. When loading, the custom mask layer must be passed to the custom_objects argument.\n",
      "  warnings.warn('Custom mask layers require a config and must override '\n"
     ]
    }
   ],
   "source": [
    "resnet50_f = train_model('resnet50', X_train, y_train, X_val, y_val, epochs=58) #58, epoch used in part e as limit"
   ]
  },
  {
   "cell_type": "code",
   "execution_count": 13,
   "id": "a7081d7f",
   "metadata": {},
   "outputs": [
    {
     "name": "stdout",
     "output_type": "stream",
     "text": [
      "Epoch 1/20\n",
      "558/558 [==============================] - 47s 71ms/step - loss: 0.8467 - accuracy: 0.6948\n",
      "Epoch 2/20\n",
      "558/558 [==============================] - 38s 69ms/step - loss: 0.6207 - accuracy: 0.7869\n",
      "Epoch 3/20\n",
      "558/558 [==============================] - 38s 69ms/step - loss: 0.5035 - accuracy: 0.8271\n",
      "Epoch 4/20\n",
      "558/558 [==============================] - 39s 69ms/step - loss: 0.4541 - accuracy: 0.8451\n",
      "Epoch 5/20\n",
      "558/558 [==============================] - 39s 69ms/step - loss: 0.4062 - accuracy: 0.8615\n",
      "Epoch 6/20\n",
      "558/558 [==============================] - 38s 69ms/step - loss: 0.3727 - accuracy: 0.8676\n",
      "Epoch 7/20\n",
      "558/558 [==============================] - 39s 70ms/step - loss: 0.3374 - accuracy: 0.8777\n",
      "Epoch 8/20\n",
      "558/558 [==============================] - 39s 69ms/step - loss: 0.3721 - accuracy: 0.8727\n",
      "Epoch 9/20\n",
      "558/558 [==============================] - 39s 69ms/step - loss: 0.3160 - accuracy: 0.8920\n",
      "Epoch 10/20\n",
      "558/558 [==============================] - 39s 69ms/step - loss: 0.3013 - accuracy: 0.8967\n",
      "Epoch 11/20\n",
      "558/558 [==============================] - 39s 69ms/step - loss: 0.2820 - accuracy: 0.9046\n",
      "Epoch 12/20\n",
      "558/558 [==============================] - 39s 69ms/step - loss: 0.2438 - accuracy: 0.9157\n",
      "Epoch 13/20\n",
      "558/558 [==============================] - 39s 69ms/step - loss: 0.2654 - accuracy: 0.9103\n",
      "Epoch 14/20\n",
      "558/558 [==============================] - 40s 72ms/step - loss: 0.2481 - accuracy: 0.9136\n",
      "Epoch 15/20\n",
      "558/558 [==============================] - 39s 69ms/step - loss: 0.2590 - accuracy: 0.9100\n",
      "Epoch 16/20\n",
      "558/558 [==============================] - 39s 70ms/step - loss: 0.2303 - accuracy: 0.9182\n",
      "Epoch 17/20\n",
      "558/558 [==============================] - 39s 69ms/step - loss: 0.1837 - accuracy: 0.9379\n",
      "Epoch 18/20\n",
      "558/558 [==============================] - 39s 69ms/step - loss: 0.1983 - accuracy: 0.9344\n",
      "Epoch 19/20\n",
      "558/558 [==============================] - 39s 69ms/step - loss: 0.2240 - accuracy: 0.9261\n",
      "Epoch 20/20\n",
      "558/558 [==============================] - 39s 69ms/step - loss: 0.2047 - accuracy: 0.9319\n"
     ]
    }
   ],
   "source": [
    "efficientnet_f = train_model('efficientnet_b0', X_train, y_train, X_val, y_val, epochs=20) #20"
   ]
  },
  {
   "cell_type": "code",
   "execution_count": 9,
   "id": "4fde61cd",
   "metadata": {},
   "outputs": [
    {
     "name": "stdout",
     "output_type": "stream",
     "text": [
      "Epoch 1/20\n",
      "558/558 [==============================] - 31s 47ms/step - loss: 1.8752 - accuracy: 0.2220\n",
      "Epoch 2/20\n",
      "558/558 [==============================] - 24s 44ms/step - loss: 1.6146 - accuracy: 0.2152\n",
      "Epoch 3/20\n",
      "558/558 [==============================] - 25s 44ms/step - loss: 1.6015 - accuracy: 0.2188\n",
      "Epoch 4/20\n",
      "558/558 [==============================] - 25s 44ms/step - loss: 1.6004 - accuracy: 0.2242\n",
      "Epoch 5/20\n",
      "558/558 [==============================] - 27s 48ms/step - loss: 1.6003 - accuracy: 0.2242\n",
      "Epoch 6/20\n",
      "558/558 [==============================] - 24s 44ms/step - loss: 1.6002 - accuracy: 0.2242\n",
      "Epoch 7/20\n",
      "558/558 [==============================] - 24s 43ms/step - loss: 1.6002 - accuracy: 0.2242\n",
      "Epoch 8/20\n",
      "558/558 [==============================] - 24s 43ms/step - loss: 1.8208 - accuracy: 0.2256\n",
      "Epoch 9/20\n",
      "558/558 [==============================] - 25s 45ms/step - loss: 1.6001 - accuracy: 0.2242\n",
      "Epoch 10/20\n",
      "558/558 [==============================] - 27s 48ms/step - loss: 1.6001 - accuracy: 0.2242\n",
      "Epoch 11/20\n",
      "558/558 [==============================] - 25s 45ms/step - loss: 1.6002 - accuracy: 0.2242\n",
      "Epoch 12/20\n",
      "558/558 [==============================] - 25s 45ms/step - loss: 1.6001 - accuracy: 0.2242\n",
      "Epoch 13/20\n",
      "558/558 [==============================] - 25s 45ms/step - loss: 1.6002 - accuracy: 0.2242\n",
      "Epoch 14/20\n",
      "558/558 [==============================] - 27s 48ms/step - loss: 1.6001 - accuracy: 0.2242\n",
      "Epoch 15/20\n",
      "558/558 [==============================] - 26s 46ms/step - loss: 1.6002 - accuracy: 0.2184\n",
      "Epoch 16/20\n",
      "558/558 [==============================] - 25s 44ms/step - loss: 1.6001 - accuracy: 0.2242\n",
      "Epoch 17/20\n",
      "558/558 [==============================] - 25s 45ms/step - loss: 1.6002 - accuracy: 0.2242\n",
      "Epoch 18/20\n",
      "558/558 [==============================] - 25s 45ms/step - loss: 1.6001 - accuracy: 0.2242\n",
      "Epoch 19/20\n",
      "558/558 [==============================] - 27s 48ms/step - loss: 1.6001 - accuracy: 0.2242\n",
      "Epoch 20/20\n",
      "558/558 [==============================] - 25s 46ms/step - loss: 1.6001 - accuracy: 0.2192\n"
     ]
    }
   ],
   "source": [
    "vgg16_f = train_model('vgg16', X_train, y_train, X_val, y_val, epochs=20)#20"
   ]
  },
  {
   "cell_type": "code",
   "execution_count": 13,
   "id": "1f99a407",
   "metadata": {
    "colab": {
     "base_uri": "https://localhost:8080/",
     "height": 294
    },
    "executionInfo": {
     "elapsed": 787,
     "status": "error",
     "timestamp": 1683054099908,
     "user": {
      "displayName": "Xiang Li",
      "userId": "18315999968250619972"
     },
     "user_tz": 300
    },
    "id": "rT_bp0-fJFhS",
    "outputId": "0cc0d6c7-ad79-445d-fbf8-9c7245bf9d5c"
   },
   "outputs": [],
   "source": [
    "# extract L equally spaced frames from videos\n",
    "import cv2\n",
    "video_path='../Data/Sport Videos'\n",
    "def extract_frames(video_path, L):\n",
    "    cap = cv2.VideoCapture(video_path)\n",
    "    total_frames = int(cap.get(cv2.CAP_PROP_FRAME_COUNT))\n",
    "    frame_indices = np.linspace(0, total_frames - 1, L, dtype=int)\n",
    "\n",
    "    frames = []\n",
    "    for idx in frame_indices:\n",
    "        cap.set(cv2.CAP_PROP_POS_FRAMES, idx)\n",
    "        ret, frame = cap.read()\n",
    "        if ret:\n",
    "            frame = cv2.cvtColor(frame, cv2.COLOR_BGR2RGB)\n",
    "            frames.append(frame)\n",
    "\n",
    "    cap.release()\n",
    "    return frames\n"
   ]
  },
  {
   "cell_type": "code",
   "execution_count": 14,
   "id": "cbaeea0c",
   "metadata": {},
   "outputs": [],
   "source": [
    "from tensorflow.keras.preprocessing.image import img_to_array\n",
    "from tensorflow.keras.applications.resnet50 import preprocess_input as preprocess_input_resnet50\n",
    "from tensorflow.keras.applications.efficientnet import preprocess_input as preprocess_input_efficientnet\n",
    "from tensorflow.keras.applications.vgg16 import preprocess_input as preprocess_input_vgg16\n",
    "import random\n",
    "\n",
    "def preprocess_image(image, model_name, target_size=(224, 224)):\n",
    "    image = cv2.resize(image, target_size)\n",
    "\n",
    "    # Augmentation parameters\n",
    "    rotation_range = 20\n",
    "    zoom_range = 0.15\n",
    "    width_shift_range = 0.2\n",
    "    height_shift_range = 0.2\n",
    "    shear_range = 0.15\n",
    "    horizontal_flip = True\n",
    "\n",
    "    # Apply rotation\n",
    "    angle = np.random.uniform(-rotation_range, rotation_range)\n",
    "    M = cv2.getRotationMatrix2D((target_size[1] // 2, target_size[0] // 2), angle, 1)\n",
    "    image = cv2.warpAffine(image, M, target_size)\n",
    "\n",
    "    # Apply width and height shift\n",
    "    tx = np.random.uniform(-width_shift_range, width_shift_range) * target_size[1]\n",
    "    ty = np.random.uniform(-height_shift_range, height_shift_range) * target_size[0]\n",
    "    M = np.float32([[1, 0, tx], [0, 1, ty]])\n",
    "    image = cv2.warpAffine(image, M, target_size)\n",
    "\n",
    "    # Apply shear transformation\n",
    "    shear = np.random.uniform(-shear_range, shear_range)\n",
    "    M = np.float32([[1, -np.sin(shear), 0], [0, np.cos(shear), 0]])\n",
    "    image = cv2.warpAffine(image, M, target_size)\n",
    "\n",
    "    # Apply zoom\n",
    "    zoom = 1 + np.random.uniform(-zoom_range, zoom_range)\n",
    "    image = cv2.resize(image, None, fx=zoom, fy=zoom)\n",
    "    crop_size = (min(image.shape[0], target_size[0]), min(image.shape[1], target_size[1]))\n",
    "    image = image[0:crop_size[0], 0:crop_size[1]]\n",
    "\n",
    "    # Horizontal flip\n",
    "    if horizontal_flip and random.random() < 0.5:\n",
    "        image = cv2.flip(image, 1)\n",
    "\n",
    "    # Resize image to target size if necessary\n",
    "    if image.shape[:2] != target_size:\n",
    "        image = cv2.resize(image, target_size)\n",
    "\n",
    "    # Convert to array\n",
    "    image = img_to_array(image)\n",
    "    image = np.expand_dims(image, axis=0)\n",
    "\n",
    "    # Preprocess input for the specific model\n",
    "    if model_name == 'resnet50_f':\n",
    "        image = preprocess_input_resnet50(image)\n",
    "    elif model_name == 'efficientnet_f':\n",
    "        image = preprocess_input_efficientnet(image)\n",
    "    elif model_name == 'vgg16_f':\n",
    "        image = preprocess_input_vgg16(image)\n",
    "    \n",
    "    image = np.squeeze(image,axis=0)\n",
    "    #else:\n",
    "     #   raise ValueError(\"Invalid model name. Choose from 'trained_resnet50', 'trained_efficientnet_b0','trained_vgg16'.\")\n",
    "\n",
    "    return image\n"
   ]
  },
  {
   "cell_type": "code",
   "execution_count": 15,
   "id": "928157d5",
   "metadata": {
    "id": "yiygMf6P4_Gd"
   },
   "outputs": [],
   "source": [
    "# Preprocess the extracted frames\n",
    "def process_video_frames(model_name,model, frames):\n",
    "    preprocessed_frames = [preprocess_image(frame,model) for frame in frames]\n",
    "    predictions = model.predict(np.array(preprocessed_frames))\n",
    "    return np.mean(predictions, axis=0)\n"
   ]
  },
  {
   "cell_type": "code",
   "execution_count": 16,
   "id": "e21c1aa0",
   "metadata": {},
   "outputs": [],
   "source": [
    "def evaluate_model(model_name, model, video_path, L):\n",
    "    y_true = []\n",
    "    y_pred = []\n",
    "\n",
    "    for subdir, dirs, files in os.walk(video_path):\n",
    "        for file in files:\n",
    "            video_path = os.path.join(subdir, file)\n",
    "            label = os.path.basename(subdir)\n",
    "            frames = extract_frames(video_path, L)\n",
    "            preprocessed_frames = [preprocess_image(frame, model_name) for frame in frames]\n",
    "\n",
    "            avg_probabilities = process_video_frames(model_name,model, preprocessed_frames)\n",
    "\n",
    "            y_true.append(label_to_index[label])\n",
    "            y_pred.append(np.argmax(avg_probabilities))\n",
    "\n",
    "    cm = confusion_matrix(y_true, y_pred)\n",
    "    precision = precision_score(y_true, y_pred, average='weighted')\n",
    "    recall = recall_score(y_true, y_pred, average='weighted')\n",
    "    accuracy = accuracy_score(y_true, y_pred)\n",
    "    f1 = f1_score(y_true, y_pred, average='weighted')\n",
    "\n",
    "    print(f\"Results for {model_name}:\")\n",
    "    print(\"Confusion Matrix:\\n\", cm)\n",
    "    print(\"Precision:\", precision)\n",
    "    print(\"Recall:\", recall)\n",
    "    print(\"Accuracy:\", accuracy)\n",
    "    print(\"F1 Score:\", f1)\n",
    "    print('-' * 30)"
   ]
  },
  {
   "cell_type": "code",
   "execution_count": 17,
   "id": "b561582d",
   "metadata": {},
   "outputs": [
    {
     "name": "stdout",
     "output_type": "stream",
     "text": [
      "Mon May  8 16:18:58 2023       \n",
      "+-----------------------------------------------------------------------------+\n",
      "| NVIDIA-SMI 527.56       Driver Version: 527.56       CUDA Version: 12.0     |\n",
      "|-------------------------------+----------------------+----------------------+\n",
      "| GPU  Name            TCC/WDDM | Bus-Id        Disp.A | Volatile Uncorr. ECC |\n",
      "| Fan  Temp  Perf  Pwr:Usage/Cap|         Memory-Usage | GPU-Util  Compute M. |\n",
      "|                               |                      |               MIG M. |\n",
      "|===============================+======================+======================|\n",
      "|   0  NVIDIA GeForce ... WDDM  | 00000000:01:00.0 Off |                  N/A |\n",
      "|  0%   36C    P8     7W / 350W |  12087MiB / 12288MiB |      0%      Default |\n",
      "|                               |                      |                  N/A |\n",
      "+-------------------------------+----------------------+----------------------+\n",
      "                                                                               \n",
      "+-----------------------------------------------------------------------------+\n",
      "| Processes:                                                                  |\n",
      "|  GPU   GI   CI        PID   Type   Process name                  GPU Memory |\n",
      "|        ID   ID                                                   Usage      |\n",
      "|=============================================================================|\n",
      "|    0   N/A  N/A     17212      C   ...conda3\\envs\\lx\\python.exe    N/A      |\n",
      "|    0   N/A  N/A     20892      C   ...conda3\\envs\\lx\\python.exe    N/A      |\n",
      "+-----------------------------------------------------------------------------+\n"
     ]
    }
   ],
   "source": [
    "import os\n",
    "from tensorflow.keras.models import load_model\n",
    "import gc\n",
    "import tensorflow as tf\n",
    "from tensorflow.keras import backend as K\n",
    "\n",
    "# Clear GPU memory\n",
    "tf.compat.v1.reset_default_graph()\n",
    "K.clear_session()\n",
    "gc.collect()\n",
    "\n",
    "!nvidia-smi"
   ]
  },
  {
   "cell_type": "code",
   "execution_count": 18,
   "id": "4d1b6ef9",
   "metadata": {},
   "outputs": [],
   "source": [
    "# !pip install gpustat"
   ]
  },
  {
   "cell_type": "code",
   "execution_count": 19,
   "id": "ccd5c265",
   "metadata": {
    "scrolled": true
   },
   "outputs": [
    {
     "name": "stdout",
     "output_type": "stream",
     "text": [
      "GPU ID: 0\n",
      "GPU Name: NVIDIA GeForce RTX 3080 Ti\n",
      "GPU Memory Total: 12288 MiB\n",
      "GPU Memory Used: 12087 MiB\n",
      "GPU Memory Free: 201 MiB\n",
      "------------------------------\n"
     ]
    }
   ],
   "source": [
    "import gpustat\n",
    "\n",
    "stats = gpustat.GPUStatCollection.new_query()\n",
    "for gpu in stats.gpus:\n",
    "    print(f\"GPU ID: {gpu.index}\")\n",
    "    print(f\"GPU Name: {gpu.name}\")\n",
    "    print(f\"GPU Memory Total: {gpu.memory_total} MiB\")\n",
    "    print(f\"GPU Memory Used: {gpu.memory_used} MiB\")\n",
    "    print(f\"GPU Memory Free: {gpu.memory_free} MiB\")\n",
    "    print(\"-\" * 30)\n"
   ]
  },
  {
   "cell_type": "code",
   "execution_count": 20,
   "id": "2ba03198",
   "metadata": {},
   "outputs": [],
   "source": [
    "from tensorflow.keras.models import load_model\n",
    "import tensorflow as tf\n",
    "\n",
    "# Load models\n",
    "current_working_directory = os.getcwd()\n",
    "\n",
    "resnet50_f_path = os.path.join(current_working_directory, \"resnet50.h5\")\n",
    "efficientnet_f_path = os.path.join(current_working_directory, \"efficientnet_b0.h5\")\n",
    "vgg16_f_path = os.path.join(current_working_directory, \"vgg16.h5\")\n",
    "\n",
    "resnet50_f = load_model(resnet50_f_path)\n",
    "efficientnet_f = load_model(efficientnet_f_path)\n",
    "vgg16_f = load_model(vgg16_f_path)\n",
    "\n"
   ]
  },
  {
   "cell_type": "code",
   "execution_count": 21,
   "id": "7867d5f3",
   "metadata": {},
   "outputs": [
    {
     "name": "stdout",
     "output_type": "stream",
     "text": [
      "Results for resnet50:\n",
      "Confusion Matrix:\n",
      " [[140   0   0  10   0]\n",
      " [ 57   0  59  21   0]\n",
      " [ 46   0  38  27   0]\n",
      " [ 65   0  34  68   0]\n",
      " [ 50   0  58   6   2]]\n",
      "Precision: 0.41557559651227366\n",
      "Recall: 0.3641703377386197\n",
      "Accuracy: 0.3641703377386197\n",
      "F1 Score: 0.28001356088824814\n",
      "------------------------------\n"
     ]
    },
    {
     "name": "stderr",
     "output_type": "stream",
     "text": [
      "C:\\Users\\yyhba\\anaconda3\\envs\\lx\\lib\\site-packages\\sklearn\\metrics\\_classification.py:1344: UndefinedMetricWarning: Precision is ill-defined and being set to 0.0 in labels with no predicted samples. Use `zero_division` parameter to control this behavior.\n",
      "  _warn_prf(average, modifier, msg_start, len(result))\n"
     ]
    }
   ],
   "source": [
    "# Evaluate models\n",
    "video_labels = ['BaseballPitch', 'Basketball', 'Fencing', 'TennisSwing', 'VolleyballSpiking']\n",
    "label_to_index = {label: index for index, label in enumerate(video_labels)}\n",
    "\n",
    "evaluate_model('resnet50', resnet50_f, video_path, L=100)\n",
    "tf.compat.v1.reset_default_graph()\n",
    "K.clear_session()\n",
    "\n"
   ]
  },
  {
   "cell_type": "code",
   "execution_count": 22,
   "id": "429f4370",
   "metadata": {},
   "outputs": [
    {
     "name": "stdout",
     "output_type": "stream",
     "text": [
      "Results for efficientnet_b0:\n",
      "Confusion Matrix:\n",
      " [[ 69   0  25  56   0]\n",
      " [  4   0 107  26   0]\n",
      " [ 22   0  87   2   0]\n",
      " [ 38   0  71  58   0]\n",
      " [  1   0 105  10   0]]\n",
      "Precision: 0.24289367319603283\n",
      "Recall: 0.3142437591776799\n",
      "Accuracy: 0.3142437591776799\n",
      "F1 Score: 0.2522533878784773\n",
      "------------------------------\n"
     ]
    },
    {
     "name": "stderr",
     "output_type": "stream",
     "text": [
      "C:\\Users\\yyhba\\anaconda3\\envs\\lx\\lib\\site-packages\\sklearn\\metrics\\_classification.py:1344: UndefinedMetricWarning: Precision is ill-defined and being set to 0.0 in labels with no predicted samples. Use `zero_division` parameter to control this behavior.\n",
      "  _warn_prf(average, modifier, msg_start, len(result))\n"
     ]
    }
   ],
   "source": [
    "current_working_directory = os.getcwd()\n",
    "video_labels = ['BaseballPitch', 'Basketball', 'Fencing', 'TennisSwing', 'VolleyballSpiking']\n",
    "label_to_index = {label: index for index, label in enumerate(video_labels)}\n",
    "\n",
    "evaluate_model('efficientnet_b0', efficientnet_f, video_path, L=99)\n",
    "tf.compat.v1.reset_default_graph()\n",
    "K.clear_session()"
   ]
  },
  {
   "cell_type": "code",
   "execution_count": 23,
   "id": "c6ac3a4d",
   "metadata": {},
   "outputs": [
    {
     "name": "stdout",
     "output_type": "stream",
     "text": [
      "Results for vgg16:\n",
      "Confusion Matrix:\n",
      " [[150   0   0   0   0]\n",
      " [137   0   0   0   0]\n",
      " [111   0   0   0   0]\n",
      " [167   0   0   0   0]\n",
      " [116   0   0   0   0]]\n",
      "Precision: 0.04851636942304333\n",
      "Recall: 0.22026431718061673\n",
      "Accuracy: 0.22026431718061673\n",
      "F1 Score: 0.07951780403632373\n",
      "------------------------------\n"
     ]
    },
    {
     "name": "stderr",
     "output_type": "stream",
     "text": [
      "C:\\Users\\yyhba\\anaconda3\\envs\\lx\\lib\\site-packages\\sklearn\\metrics\\_classification.py:1344: UndefinedMetricWarning: Precision is ill-defined and being set to 0.0 in labels with no predicted samples. Use `zero_division` parameter to control this behavior.\n",
      "  _warn_prf(average, modifier, msg_start, len(result))\n"
     ]
    }
   ],
   "source": [
    "current_working_directory = os.getcwd()\n",
    "video_labels = ['BaseballPitch', 'Basketball', 'Fencing', 'TennisSwing', 'VolleyballSpiking']\n",
    "label_to_index = {label: index for index, label in enumerate(video_labels)}\n",
    "\n",
    "vgg16_f_path = os.path.join(current_working_directory, \"vgg16.h5\")\n",
    "vgg16_f = load_model(vgg16_f_path)\n",
    "evaluate_model('vgg16', vgg16_f, video_path, L=99)\n",
    "tf.compat.v1.reset_default_graph()\n",
    "K.clear_session()"
   ]
  },
  {
   "cell_type": "code",
   "execution_count": 25,
   "id": "5620ec09",
   "metadata": {},
   "outputs": [
    {
     "data": {
      "text/plain": [
       "['efficientnet_b0.h5',\n",
       " 'efficientnet_b0_best_weights.h5',\n",
       " 'resnet50.h5',\n",
       " 'resnet50_best_weights.h5',\n",
       " 'vgg16.h5',\n",
       " 'vgg16_best_weights.h5']"
      ]
     },
     "execution_count": 25,
     "metadata": {},
     "output_type": "execute_result"
    }
   ],
   "source": [
    "cwd = os.getcwd()\n",
    "files = os.listdir(cwd)\n",
    "h5_files = [file for file in files if file.endswith('.h5')]\n",
    "h5_files"
   ]
  },
  {
   "cell_type": "code",
   "execution_count": null,
   "id": "1ac69e46",
   "metadata": {},
   "outputs": [],
   "source": []
  }
 ],
 "metadata": {
  "accelerator": "TPU",
  "colab": {
   "collapsed_sections": [
    "66ffdd2a",
    "uZ_OeQjZJ4Gn",
    "nSE7oN5rzFzH"
   ],
   "name": "",
   "version": ""
  },
  "gpuClass": "standard",
  "kernelspec": {
   "display_name": "Python 3 (ipykernel)",
   "language": "python",
   "name": "python3"
  },
  "language_info": {
   "codemirror_mode": {
    "name": "ipython",
    "version": 3
   },
   "file_extension": ".py",
   "mimetype": "text/x-python",
   "name": "python",
   "nbconvert_exporter": "python",
   "pygments_lexer": "ipython3",
   "version": "3.9.16"
  }
 },
 "nbformat": 4,
 "nbformat_minor": 5
}
